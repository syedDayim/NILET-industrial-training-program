{
 "cells": [
  {
   "cell_type": "code",
   "execution_count": 2,
   "metadata": {},
   "outputs": [
    {
     "name": "stdout",
     "output_type": "stream",
     "text": [
      "1\n"
     ]
    }
   ],
   "source": [
    "# Factorial of a number\n",
    "\n",
    "\n",
    "\n",
    "n = int(input(\"Enter a number\"))\n",
    "if n == 0:\n",
    "    print(1)\n",
    "else:\n",
    "    result = 1\n",
    "    inc = 1\n",
    "    while inc != n+1:\n",
    "        result = result * inc\n",
    "        inc += 1\n",
    "\n",
    "    print(result)"
   ]
  },
  {
   "cell_type": "code",
   "execution_count": null,
   "metadata": {},
   "outputs": [],
   "source": [
    "# finging the sum of digits\n",
    "\n",
    "number = int(input(\"Enter a number: \"))\n",
    "sum = 0\n",
    "while number != 0:\n",
    "    right_Digit = number % 10\n",
    "    sum = sum + right_Digit\n",
    "    number = number // 10\n",
    "\n",
    "print(sum)"
   ]
  },
  {
   "cell_type": "code",
   "execution_count": null,
   "metadata": {},
   "outputs": [],
   "source": [
    "# reversing a number\n",
    "\n",
    "number = int(input(\"Enter a number: \"))\n",
    "new_number = 0\n",
    "while number != 0:\n",
    "    right_Digit = number % 10\n",
    "    new_number = new_number * 10 + right_Digit \n",
    "    number = number // 10\n",
    "\n",
    "print(new_number)"
   ]
  },
  {
   "cell_type": "code",
   "execution_count": null,
   "metadata": {},
   "outputs": [],
   "source": [
    "# if number is palindrome or not\n",
    "\n",
    "number = int(input(\"Enter a number: \"))\n",
    "number_copy = number\n",
    "new_number = 0\n",
    "while number != 0:\n",
    "    right_Digit = number % 10\n",
    "    new_number = new_number * 10 + right_Digit \n",
    "    number = number // 10\n",
    "\n",
    "if new_number == number_copy:\n",
    "    print(\"The number is plindrome.\")\n",
    "else:\n",
    "    print(\"Number is not a palindrome.\")"
   ]
  },
  {
   "cell_type": "code",
   "execution_count": null,
   "metadata": {},
   "outputs": [],
   "source": [
    "#Armstrong number\n",
    "\n",
    "number = int(input(\"Enter a number: \"))\n",
    "temp_number = number\n",
    "sum = 1\n",
    "total_sum = 0\n",
    "length = len(str(number))\n",
    "\n",
    "while number != 0:\n",
    "    digit = number % 10\n",
    "    for i in range(length):\n",
    "        sum = sum * digit\n",
    "    total_sum = total_sum + sum\n",
    "    number = number // 10\n",
    "    sum = 1\n",
    "\n",
    "if temp_number == total_sum:\n",
    "    print(temp_number, \" is an Armstrong number\")\n",
    "else:\n",
    "    print(temp_number, \" is not an Armstrong number\")\n"
   ]
  },
  {
   "cell_type": "code",
   "execution_count": 69,
   "metadata": {},
   "outputs": [
    {
     "name": "stdout",
     "output_type": "stream",
     "text": [
      "2024 is a leap year.\n"
     ]
    }
   ],
   "source": [
    "# Leap year or not\n",
    "\n",
    "year = int(input(\"Enter a year: \"))\n",
    "\n",
    "if year % 4 == 0 and (year % 100 != 0 or year % 400 == 0):\n",
    "    print(year, \"is a leap year.\")\n",
    "else:\n",
    "    print(year, \"is not a leap year.\")\n",
    "\n",
    "\n"
   ]
  },
  {
   "cell_type": "code",
   "execution_count": 67,
   "metadata": {},
   "outputs": [
    {
     "name": "stdout",
     "output_type": "stream",
     "text": [
      "Green\n"
     ]
    }
   ],
   "source": [
    "# color Question\n",
    "\n",
    "color = input(\"Enter a letter: \")\n",
    "\n",
    "if color == 'R' or color == 'r':\n",
    "    print(\"Red\")\n",
    "elif color == 'G' or color == 'g':\n",
    "    print(\"Green\")\n",
    "elif color == 'B' or color == 'b':\n",
    "    print(\"Blue\")\n",
    "elif color == 'W' or color == 'w':\n",
    "    print(\"White\")\n",
    "else:\n",
    "    print(\"invalid color\")"
   ]
  },
  {
   "cell_type": "code",
   "execution_count": 8,
   "metadata": {},
   "outputs": [
    {
     "name": "stdout",
     "output_type": "stream",
     "text": [
      "[]\n",
      "[1, 2, 3, 4]\n",
      "[True, 'Machine Learning', 'Python']\n"
     ]
    }
   ],
   "source": [
    "# Core data types starts here.\n",
    "\n",
    "# LISTS\n",
    "\n",
    "\n",
    "# creating a list:\n",
    "\n",
    "myList = [] # empty list\n",
    "\n",
    "print(myList) # prints the list \n",
    "\n",
    "# adding the data manually to the list \n",
    "\n",
    "myList = [1, 2, 3, 4]\n",
    "\n",
    "print(myList) # prints the list\n",
    "\n",
    "myList.append(True)\n",
    "myList.append(\"Machine Learning\")\n",
    "myList.append('Python')\n",
    "myList.append('Apple')\n",
    "\n",
    "print(myList[4:7])"
   ]
  },
  {
   "cell_type": "code",
   "execution_count": 9,
   "metadata": {},
   "outputs": [
    {
     "name": "stdout",
     "output_type": "stream",
     "text": [
      "apple\n",
      "orange\n",
      "mango\n",
      "Banana\n",
      "Grapes\n"
     ]
    }
   ],
   "source": [
    "fruits = ['apple', 'orange', 'mango', 'Banana', 'Grapes']\n",
    "\n",
    "for fruit in fruits:\n",
    "    print(fruit)"
   ]
  },
  {
   "cell_type": "code",
   "execution_count": 18,
   "metadata": {},
   "outputs": [
    {
     "data": {
      "text/plain": [
       "['absolute', 'b', 'c', 'Not-absolute', 'b', 'computer', 'keyboard']"
      ]
     },
     "execution_count": 18,
     "metadata": {},
     "output_type": "execute_result"
    }
   ],
   "source": [
    "# Insert function\n",
    "\n",
    "# .insert(index, <The element to be pushed>)\n",
    "\n",
    "myList = ['absolute', 'b', 'c','b']\n",
    "\n",
    "myList.insert(3, 'Not-absolute')\n",
    "\n",
    "myList.count('b')\n",
    "\n",
    "# count method displays the repeatation of elements in a list\n",
    "\n",
    "myOtherList = ['computer', 'keyboard']\n",
    "myList.extend(myOtherList)\n",
    "\n",
    "myList\n",
    "\n",
    "# extend merges the two lists together!\n"
   ]
  },
  {
   "cell_type": "code",
   "execution_count": null,
   "metadata": {},
   "outputs": [],
   "source": []
  }
 ],
 "metadata": {
  "kernelspec": {
   "display_name": "Python 3",
   "language": "python",
   "name": "python3"
  },
  "language_info": {
   "codemirror_mode": {
    "name": "ipython",
    "version": 3
   },
   "file_extension": ".py",
   "mimetype": "text/x-python",
   "name": "python",
   "nbconvert_exporter": "python",
   "pygments_lexer": "ipython3",
   "version": "3.11.2"
  },
  "orig_nbformat": 4
 },
 "nbformat": 4,
 "nbformat_minor": 2
}
