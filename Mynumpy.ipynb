{
 "cells": [
  {
   "attachments": {},
   "cell_type": "markdown",
   "metadata": {},
   "source": [
    "Numpy Library"
   ]
  },
  {
   "cell_type": "code",
   "execution_count": null,
   "metadata": {},
   "outputs": [],
   "source": []
  },
  {
   "cell_type": "code",
   "execution_count": 49,
   "metadata": {},
   "outputs": [
    {
     "data": {
      "text/plain": [
       "'\\n\\n1. Lists are Slow\\n2. Numpy uses less bytes of memory, so it is faster\\n3. In lists we have to do type checking each time which makes it slower. \\n4. Numpy uses contagious memory, so it is faster. While as lists are scattered around\\n\\nBenefits:\\n    1. SIMD vector processing\\n    2. Effective Cache utilization \\n\\nApplications of Numpy:\\n    1. Mathematics (MATLAB replacement)\\n    2. Plotting\\n    3. Backend (Pandas, connect 4, Digital photography)\\n    4. Machine Learning\\n\\n'"
      ]
     },
     "execution_count": 49,
     "metadata": {},
     "output_type": "execute_result"
    }
   ],
   "source": [
    "#Why use Numpy over lists?\n",
    "\n",
    "\"\"\"\n",
    "\n",
    "1. Lists are Slow\n",
    "2. Numpy uses less bytes of memory, so it is faster\n",
    "3. In lists we have to do type checking each time which makes it slower. \n",
    "4. Numpy uses contagious memory, so it is faster. While as lists are scattered around\n",
    "\n",
    "Benefits:\n",
    "    1. SIMD vector processing\n",
    "    2. Effective Cache utilization \n",
    "\n",
    "Applications of Numpy:\n",
    "    1. Mathematics (MATLAB replacement)\n",
    "    2. Plotting\n",
    "    3. Backend (Pandas, connect 4, Digital photography)\n",
    "    4. Machine Learning\n",
    "\n",
    "\"\"\""
   ]
  },
  {
   "cell_type": "code",
   "execution_count": 50,
   "metadata": {},
   "outputs": [],
   "source": [
    "import numpy as np\n",
    "\n",
    "# if it doesn't work, install numpy using pip (pip install numpy)"
   ]
  },
  {
   "attachments": {},
   "cell_type": "markdown",
   "metadata": {},
   "source": [
    "Creating a Numpy array"
   ]
  },
  {
   "cell_type": "code",
   "execution_count": 51,
   "metadata": {},
   "outputs": [
    {
     "name": "stdout",
     "output_type": "stream",
     "text": [
      "[1 2 3 4 5 6 7 8 9]\n",
      "[[1 2 3 4]\n",
      " [1 2 3 4]]\n"
     ]
    }
   ],
   "source": [
    "import numpy as np\n",
    "\n",
    "a = np.array([1, 2, 3, 4, 5, 6, 7, 8, 9]) # 1D Array\n",
    "\n",
    "b = np.array([[1,2,3,4],[1,2,3,4]]) # 2D Array\n",
    "\n",
    "print(a)\n",
    "print(b)"
   ]
  },
  {
   "cell_type": "code",
   "execution_count": 52,
   "metadata": {},
   "outputs": [
    {
     "data": {
      "text/plain": [
       "2"
      ]
     },
     "execution_count": 52,
     "metadata": {},
     "output_type": "execute_result"
    }
   ],
   "source": [
    "# Get Dimensions\n",
    "\n",
    "a.ndim\n",
    "b.ndim\n"
   ]
  },
  {
   "cell_type": "code",
   "execution_count": 53,
   "metadata": {},
   "outputs": [
    {
     "data": {
      "text/plain": [
       "(2, 4)"
      ]
     },
     "execution_count": 53,
     "metadata": {},
     "output_type": "execute_result"
    }
   ],
   "source": [
    "# Get shape\n",
    "a.shape\n",
    "b.shape #(Rows, columns)"
   ]
  },
  {
   "cell_type": "code",
   "execution_count": 54,
   "metadata": {},
   "outputs": [
    {
     "data": {
      "text/plain": [
       "dtype('int32')"
      ]
     },
     "execution_count": 54,
     "metadata": {},
     "output_type": "execute_result"
    }
   ],
   "source": [
    "# Get type\n",
    "\n",
    "a.dtype\n",
    "b.dtype"
   ]
  },
  {
   "cell_type": "code",
   "execution_count": 55,
   "metadata": {},
   "outputs": [
    {
     "data": {
      "text/plain": [
       "4"
      ]
     },
     "execution_count": 55,
     "metadata": {},
     "output_type": "execute_result"
    }
   ],
   "source": [
    "# Get size\n",
    "\n",
    "a.itemsize\n",
    "b.itemsize"
   ]
  },
  {
   "cell_type": "code",
   "execution_count": 56,
   "metadata": {},
   "outputs": [
    {
     "data": {
      "text/plain": [
       "36"
      ]
     },
     "execution_count": 56,
     "metadata": {},
     "output_type": "execute_result"
    }
   ],
   "source": [
    "# Get total size\n",
    "\n",
    "a.nbytes"
   ]
  },
  {
   "cell_type": "code",
   "execution_count": 57,
   "metadata": {},
   "outputs": [
    {
     "data": {
      "text/plain": [
       "array([[1., 0., 0., 0., 0., 0.],\n",
       "       [0., 1., 0., 0., 0., 0.],\n",
       "       [0., 0., 1., 0., 0., 0.],\n",
       "       [0., 0., 0., 1., 0., 0.],\n",
       "       [0., 0., 0., 0., 1., 0.],\n",
       "       [0., 0., 0., 0., 0., 1.]])"
      ]
     },
     "execution_count": 57,
     "metadata": {},
     "output_type": "execute_result"
    }
   ],
   "source": [
    "np.full((2,3), 27)\n",
    "\n",
    "np.random.rand(2,3)\n",
    "np.random.randint(7, size=(3,3))\n",
    "np.identity(6)"
   ]
  },
  {
   "cell_type": "code",
   "execution_count": 58,
   "metadata": {},
   "outputs": [
    {
     "data": {
      "text/plain": [
       "array([[1, 1, 1, 1, 1],\n",
       "       [1, 0, 0, 0, 1],\n",
       "       [1, 0, 9, 0, 1],\n",
       "       [1, 0, 0, 0, 1],\n",
       "       [1, 1, 1, 1, 1]])"
      ]
     },
     "execution_count": 58,
     "metadata": {},
     "output_type": "execute_result"
    }
   ],
   "source": [
    "q = np.ones((5,5), dtype='int32')\n",
    "z = np.zeros((3,3), dtype='int32')\n",
    "z[1,1] = 9\n",
    "q[1:4, 1:4] = z \n",
    "\n",
    "q"
   ]
  },
  {
   "attachments": {},
   "cell_type": "markdown",
   "metadata": {},
   "source": [
    ".ndim\n",
    "\n",
    ".shape\n",
    "\n",
    ".size\n",
    "\n",
    ".dtype\n",
    "\n",
    ".itemsize\n",
    "\n",
    ".nbytes\n",
    "\n",
    "\n",
    "np.zeros((2,3))\n",
    "\n",
    "np.ones((2,3))\n",
    "\n",
    "np.full((2,3), 5)\n",
    "\n",
    "np.random.rand(2,3)\n",
    "\n",
    ".reshape((2,3))"
   ]
  },
  {
   "cell_type": "code",
   "execution_count": 59,
   "metadata": {},
   "outputs": [
    {
     "name": "stdout",
     "output_type": "stream",
     "text": [
      "[[ 1  2  3  4  5]\n",
      " [ 6  7  8  9 10]\n",
      " [11 12 13 14 15]\n",
      " [16 17 18 19 20]\n",
      " [21 22 23 24 25]\n",
      " [26 27 28 29 30]]\n"
     ]
    },
    {
     "data": {
      "text/plain": [
       "array([], shape=(4, 0), dtype=int32)"
      ]
     },
     "execution_count": 59,
     "metadata": {},
     "output_type": "execute_result"
    }
   ],
   "source": [
    "# Vertically stacking Vectors\n",
    "\n",
    "v1 = np.array([1,2,3,4])\n",
    "v2 = np.array([5,6,7,8])\n",
    "\n",
    "np.vstack([v2, v1])\n",
    "\n",
    "\n",
    "que = np.arange(1, 31).reshape(6,5)\n",
    "print(que)\n",
    "que[2:4, 0:2]\n",
    "que[0:4, 1:1:1 ]"
   ]
  },
  {
   "cell_type": "code",
   "execution_count": 60,
   "metadata": {},
   "outputs": [
    {
     "name": "stdout",
     "output_type": "stream",
     "text": [
      "[[ 8 13 13 20 13]\n",
      " [ 5 10 13 14 18]\n",
      " [ 6  7 20 20 15]\n",
      " [ 6 19 15  6  9]\n",
      " [19 11 20  8 20]]\n"
     ]
    }
   ],
   "source": [
    "# create a 2d matrix with 5 no of rows and 5 number of columns, \n",
    "# and your elements should be in the range of from 5 to 20 ints\n",
    "# create 2 sub matrixs\n",
    "\n",
    "import numpy as np\n",
    "np.random.seed(27)\n",
    "myArr = np.random.randint(5, 21, (5,5))\n",
    "print(myArr)\n",
    "\n"
   ]
  },
  {
   "cell_type": "code",
   "execution_count": 61,
   "metadata": {},
   "outputs": [
    {
     "data": {
      "text/plain": [
       "array([[ 6,  9],\n",
       "       [ 8, 20]])"
      ]
     },
     "execution_count": 61,
     "metadata": {},
     "output_type": "execute_result"
    }
   ],
   "source": [
    "myArr[3:5, 3:6]"
   ]
  },
  {
   "cell_type": "code",
   "execution_count": 62,
   "metadata": {},
   "outputs": [
    {
     "data": {
      "text/plain": [
       "['t', 'k', '8', 'j', 'i', 'r']"
      ]
     },
     "execution_count": 62,
     "metadata": {},
     "output_type": "execute_result"
    }
   ],
   "source": [
    "import random\n",
    "mystr = '1234567890qwertyuiopsdfghjklxcvbnm,.'\n",
    "length = 6\n",
    "random_str = random.sample(mystr, length)\n",
    "random_str"
   ]
  },
  {
   "cell_type": "code",
   "execution_count": 63,
   "metadata": {},
   "outputs": [
    {
     "name": "stderr",
     "output_type": "stream",
     "text": [
      "No artists with labels found to put in legend.  Note that artists whose label start with an underscore are ignored when legend() is called with no argument.\n"
     ]
    },
    {
     "data": {
      "image/png": "[encoded data removed]",
      "text/plain": [
       "<Figure size 800x500 with 1 Axes>"
      ]
     },
     "metadata": {},
     "output_type": "display_data"
    }
   ],
   "source": [
    "import matplotlib.pyplot as plt\n",
    "\n",
    "x = [ 1, 2, 3, 4, 5]\n",
    "y = [18, 235, 126, 35, 89]\n",
    "\n",
    "plt.figure(figsize=(8,5))\n",
    "plt.title(\"My Graph\", fontsize=16, color=\"blue\")\n",
    "plt.xlabel('x-axis', fontsize=10, color=\"green\")\n",
    "plt.ylabel('y-axis', fontsize=10, color=\"green\")\n",
    "plt.grid()\n",
    "plt.plot(x,y, color=\"red\", lw=1)\n",
    "plt.legend()\n",
    "plt.show()"
   ]
  },
  {
   "cell_type": "code",
   "execution_count": 64,
   "metadata": {},
   "outputs": [],
   "source": [
    "# Scatter plot graph\n",
    "np.random.seed(212)\n",
    "x = np.random.randint(1, 100, 40)\n",
    "y = np.random.randint(1, 100, 40)\n"
   ]
  },
  {
   "cell_type": "code",
   "execution_count": 65,
   "metadata": {},
   "outputs": [
    {
     "data": {
      "image/png": "[encoded data removed]",
      "text/plain": [
       "<Figure size 800x500 with 1 Axes>"
      ]
     },
     "metadata": {},
     "output_type": "display_data"
    }
   ],
   "source": [
    "plt.figure(figsize=(8,5))\n",
    "plt.title(\"My Scatter Graph\", fontsize=16, color=\"blue\")\n",
    "plt.scatter(x, y, color='purple', label='Scatter Plot Graph', s=y, marker='^')\n",
    "plt.legend(loc=2)\n",
    "plt.show()"
   ]
  },
  {
   "cell_type": "code",
   "execution_count": 66,
   "metadata": {},
   "outputs": [],
   "source": [
    "# X range 10 to 40, 30 \n",
    "# Y range 10 to 80, 30\n",
    "# x label = days\n",
    "# y label = sales\n",
    "# Make scatter graph, use symbol ^"
   ]
  },
  {
   "cell_type": "code",
   "execution_count": 67,
   "metadata": {},
   "outputs": [
    {
     "data": {
      "image/png": "[encoded data removed]",
      "text/plain": [
       "<Figure size 800x500 with 1 Axes>"
      ]
     },
     "metadata": {},
     "output_type": "display_data"
    }
   ],
   "source": [
    "# barplot graph\n",
    "\n",
    "x = [ 1, 2, 3, 4, 5, 6, 7, 8, 9, 10]\n",
    "y = [10, 20, 30, 40, 50, 60, 70, 80, 90, 100]\n",
    "plt.figure(figsize=(8,5))\n",
    "plt.title(\"My Bar Graph\", fontsize=16, color=\"blue\")\n",
    "plt.bar(x, y, color='purple', label='Sales graph', width=0.5)\n",
    "plt.legend()\n",
    "plt.show()\n"
   ]
  },
  {
   "cell_type": "code",
   "execution_count": 68,
   "metadata": {},
   "outputs": [
    {
     "ename": "TypeError",
     "evalue": "Random.randint() takes 3 positional arguments but 4 were given",
     "output_type": "error",
     "traceback": [
      "\u001b[1;31m---------------------------------------------------------------------------\u001b[0m",
      "\u001b[1;31mTypeError\u001b[0m                                 Traceback (most recent call last)",
      "Cell \u001b[1;32mIn[68], line 4\u001b[0m\n\u001b[0;32m      1\u001b[0m \u001b[39m# histo-gram\u001b[39;00m\n\u001b[0;32m      3\u001b[0m np\u001b[39m.\u001b[39mrandom\u001b[39m.\u001b[39mseed(\u001b[39m1\u001b[39m)\n\u001b[1;32m----> 4\u001b[0m data \u001b[39m=\u001b[39m random\u001b[39m.\u001b[39;49mrandint(\u001b[39m1\u001b[39;49m, \u001b[39m100\u001b[39;49m, \u001b[39m50\u001b[39;49m)\n",
      "\u001b[1;31mTypeError\u001b[0m: Random.randint() takes 3 positional arguments but 4 were given"
     ]
    }
   ],
   "source": [
    "# histo-gram\n",
    "\n",
    "np.random.seed(1)\n",
    "data = random.randint(1, 100, 50)\n"
   ]
  },
  {
   "cell_type": "code",
   "execution_count": null,
   "metadata": {},
   "outputs": [
    {
     "data": {
      "image/png": "[encoded data removed]",
      "text/plain": [
       "<Figure size 500x500 with 1 Axes>"
      ]
     },
     "metadata": {},
     "output_type": "display_data"
    }
   ],
   "source": [
    "# Pie chart\n",
    "slices = [100, 80, 70, 40, 50]\n",
    "names = ['Math', 'Sceince', 'Urdu', 'Sst', 'English']\n",
    "plt.figure(figsize=(5,5))\n",
    "plt.pie(slices, labels=\"Names\", autopct='%0.2f%%', explode=(0,0,0.3,0.,0), shadow=True)\n",
    "plt.show()"
   ]
  },
  {
   "cell_type": "code",
   "execution_count": 1,
   "metadata": {},
   "outputs": [
    {
     "ename": "NameError",
     "evalue": "name 'plt' is not defined",
     "output_type": "error",
     "traceback": [
      "\u001b[1;31m---------------------------------------------------------------------------\u001b[0m",
      "\u001b[1;31mNameError\u001b[0m                                 Traceback (most recent call last)",
      "Cell \u001b[1;32mIn[1], line 7\u001b[0m\n\u001b[0;32m      5\u001b[0m y \u001b[39m=\u001b[39m np\u001b[39m.\u001b[39mrandom\u001b[39m.\u001b[39mrandint(\u001b[39m1\u001b[39m, \u001b[39m70\u001b[39m, \u001b[39m10\u001b[39m)\n\u001b[0;32m      6\u001b[0m data \u001b[39m=\u001b[39m np\u001b[39m.\u001b[39mrandom\u001b[39m.\u001b[39mrandint(\u001b[39m1\u001b[39m, \u001b[39m100\u001b[39m, \u001b[39m50\u001b[39m)\n\u001b[1;32m----> 7\u001b[0m plt\u001b[39m.\u001b[39msubplot(\u001b[39m3\u001b[39m, \u001b[39m4\u001b[39m, \u001b[39m1\u001b[39m)\n\u001b[0;32m      8\u001b[0m plt\u001b[39m.\u001b[39mplot(x, y, color \u001b[39m=\u001b[39m \u001b[39m\"\u001b[39m\u001b[39mblue\u001b[39m\u001b[39m\"\u001b[39m, label\u001b[39m=\u001b[39m\u001b[39m\"\u001b[39m\u001b[39mSales group\u001b[39m\u001b[39m\"\u001b[39m)\n\u001b[0;32m      9\u001b[0m plt\u001b[39m.\u001b[39msubplot(\u001b[39m3\u001b[39m, \u001b[39m4\u001b[39m, \u001b[39m2\u001b[39m)\n",
      "\u001b[1;31mNameError\u001b[0m: name 'plt' is not defined"
     ]
    }
   ],
   "source": [
    "import numpy as np\n",
    "\n",
    "np.random.seed(2)\n",
    "x = np.random.randint(1, 20, 10)\n",
    "y = np.random.randint(1, 70, 10)\n",
    "data = np.random.randint(1, 100, 50)\n",
    "plt.subplot(3, 4, 1)\n",
    "plt.plot(x, y, color = \"blue\", label=\"Sales group\")\n",
    "plt.subplot(3, 4, 2)\n",
    "plt.scatter(x, y, color = \"red\", s=y, marker='*')\n",
    "plt.subplot(3, 4, 3)\n",
    "plt.bar(x, y, color = \"purple\")\n",
    "plt.subplot(3, 4, 4)\n",
    "plt.hist(data, rwidth=0.95)\n",
    "plt.subplot(3, 4, 5)\n",
    "slices = [100, 80, 70, 40, 50]\n",
    "names = ['Math', 'Sceince', 'Urdu', 'Sst', 'English']\n",
    "# plt.figure(figsize=(5,5))\n",
    "plt.pie(slices, labels=names, autopct='%0.2f%%', explode=(0,0,0.3,0.,0), shadow=True)\n",
    "plt.show()\n",
    "\n",
    "\n",
    "\n",
    "\n",
    "\n"
   ]
  },
  {
   "cell_type": "code",
   "execution_count": null,
   "metadata": {},
   "outputs": [],
   "source": []
  }
 ],
 "metadata": {
  "kernelspec": {
   "display_name": "Python 3",
   "language": "python",
   "name": "python3"
  },
  "language_info": {
   "codemirror_mode": {
    "name": "ipython",
    "version": 3
   },
   "file_extension": ".py",
   "mimetype": "text/x-python",
   "name": "python",
   "nbconvert_exporter": "python",
   "pygments_lexer": "ipython3",
   "version": "3.11.2"
  },
  "orig_nbformat": 4
 },
 "nbformat": 4,
 "nbformat_minor": 2
}
